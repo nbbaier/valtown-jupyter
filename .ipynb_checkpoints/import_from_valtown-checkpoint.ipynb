{
 "cells": [
  {
   "cell_type": "code",
   "execution_count": 1,
   "id": "c1c1e7f4-4a4f-4e1b-9259-2d65bb2cc1c8",
   "metadata": {},
   "outputs": [
    {
     "name": "stdout",
     "output_type": "stream",
     "text": [
      "Hello world\n"
     ]
    }
   ],
   "source": [
    "import { jupyterImport } from \"https://esm.town/v/nbbaier/jupyterImport\";\n",
    "\n",
    "console.log(jupyterImport)"
   ]
  },
  {
   "cell_type": "code",
   "execution_count": null,
   "id": "9fe612ed",
   "metadata": {},
   "outputs": [],
   "source": []
  }
 ],
 "metadata": {
  "kernelspec": {
   "display_name": "Deno",
   "language": "typescript",
   "name": "deno"
  },
  "language_info": {
   "file_extension": ".ts",
   "mimetype": "text/x.typescript",
   "name": "typescript",
   "nb_converter": "script",
   "pygments_lexer": "typescript",
   "version": "5.2.2"
  }
 },
 "nbformat": 4,
 "nbformat_minor": 5
}
