{
 "cells": [
  {
   "cell_type": "code",
   "execution_count": 3,
   "id": "c1c1e7f4-4a4f-4e1b-9259-2d65bb2cc1c8",
   "metadata": {},
   "outputs": [
    {
     "name": "stdout",
     "output_type": "stream",
     "text": [
      "Hello world\n"
     ]
    }
   ],
   "source": [
    "import { jupyterImport } from \"https://esm.town/v/nbbaier/jupyterImport?v=0\";\n",
    "\n",
    "console.log(jupyterImport)"
   ]
  },
  {
   "cell_type": "code",
   "execution_count": 1,
   "id": "3c0e4673",
   "metadata": {},
   "outputs": [
    {
     "data": {
      "text/plain": [
       "\u001b[32m\"HELLO WORLD\"\u001b[39m"
      ]
     },
     "execution_count": 1,
     "metadata": {},
     "output_type": "execute_result"
    }
   ],
   "source": [
    "import { jupyterImport } from \"https://esm.town/v/nbbaier/jupyterImport?v=0\";\n",
    "\n",
    "function capitalize(str: string) {\n",
    "    return str.toLocaleUpperCase()\n",
    "}\n",
    "\n",
    "capitalize(jupyterImport)"
   ]
  }
 ],
 "metadata": {
  "kernelspec": {
   "display_name": "Deno",
   "language": "typescript",
   "name": "deno"
  },
  "language_info": {
   "file_extension": ".ts",
   "mimetype": "text/x.typescript",
   "name": "typescript",
   "nb_converter": "script",
   "pygments_lexer": "typescript",
   "version": "5.2.2"
  }
 },
 "nbformat": 4,
 "nbformat_minor": 5
}
